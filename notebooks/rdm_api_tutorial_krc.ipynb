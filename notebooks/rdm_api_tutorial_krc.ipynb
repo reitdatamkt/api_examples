{
 "cells": [
  {
   "cell_type": "markdown",
   "id": "3ac9863e-5bd7-4d39-8f97-1ccf3ba7f0b3",
   "metadata": {
    "pycharm": {
     "name": "#%% md\n"
    }
   },
   "source": [
    "# RDM Property and Analytics API Tutorial # 1\n",
    "\n",
    "This notebook will leverage the REIT Data Market (RDM) Property API to collect, process and visualze Kilroy Realty (KRC) property locations."
   ]
  },
  {
   "cell_type": "markdown",
   "id": "dc57c0bb",
   "metadata": {
    "pycharm": {
     "name": "#%% md\n"
    }
   },
   "source": [
    "## Notebook Requirements\n",
    "\n",
    "- Python >= 3.9 (although older versions may work)\n",
    "- Data Science Libraries\n",
    "- San Francisco Counties GeoJSON\n",
    "\n",
    "### Downloading San Francisco Counties GeoJSON\n",
    "\n",
    "Execute the below to download the required data. Optionally, naviagte to the URL in a web browser."
   ]
  },
  {
   "cell_type": "code",
   "execution_count": null,
   "id": "f60284c0-28f2-4f21-b370-e9591e5cc374",
   "metadata": {
    "pycharm": {
     "name": "#%%\n"
    }
   },
   "outputs": [],
   "source": [
    "SF_NEIGHBORHOODS = \"./sf_neighborhoods.geojson\""
   ]
  },
  {
   "cell_type": "code",
   "execution_count": null,
   "id": "846f574b",
   "metadata": {
    "collapsed": false,
    "jupyter": {
     "outputs_hidden": false
    },
    "pycharm": {
     "name": "#%%\n"
    }
   },
   "outputs": [],
   "source": [
    "!curl \"https://data.sfgov.org/api/geospatial/pty2-tcw4?method=export&format=GeoJSON\" --output $SF_NEIGHBORHOODS"
   ]
  },
  {
   "cell_type": "code",
   "execution_count": null,
   "id": "9caa561e",
   "metadata": {
    "collapsed": false,
    "jupyter": {
     "outputs_hidden": false
    },
    "pycharm": {
     "name": "#%%\n"
    }
   },
   "outputs": [],
   "source": [
    "import os\n",
    "import textwrap\n",
    "\n",
    "import contextily as cx\n",
    "import geopandas as gpd\n",
    "import matplotlib.pyplot as plt\n",
    "import numpy as np\n",
    "import pandas as pd\n",
    "import requests\n",
    "import seaborn as sns\n",
    "from matplotlib.ticker import FormatStrFormatter"
   ]
  },
  {
   "cell_type": "markdown",
   "id": "04365ec5",
   "metadata": {
    "pycharm": {
     "name": "#%% md\n"
    }
   },
   "source": [
    "Load the API key, create Rapid API headers, and set a base URL to use for queries."
   ]
  },
  {
   "cell_type": "code",
   "execution_count": null,
   "id": "87890436",
   "metadata": {
    "collapsed": false,
    "jupyter": {
     "outputs_hidden": false
    },
    "pycharm": {
     "name": "#%%\n"
    }
   },
   "outputs": [],
   "source": [
    "API_KEY = os.environ[\"RDM_RAPID_API_KEY\"]\n",
    "\n",
    "BASE_URL = \"https://reit-property-data1.p.rapidapi.com\"\n",
    "\n",
    "HEADERS = {\n",
    "    \"X-RapidAPI-Key\": API_KEY,\n",
    "    \"X-RapidAPI-Host\": \"reit-property-data1.p.rapidapi.com\",\n",
    "}"
   ]
  },
  {
   "cell_type": "markdown",
   "id": "ecd5be75",
   "metadata": {
    "pycharm": {
     "name": "#%% md\n"
    }
   },
   "source": [
    "## GET /reit-index\n",
    "\n",
    "Search the RDM Universe to idenitfy the number of quarters of data available for each REIT.\n"
   ]
  },
  {
   "cell_type": "code",
   "execution_count": null,
   "id": "bd3ffdc0",
   "metadata": {
    "collapsed": false,
    "jupyter": {
     "outputs_hidden": false
    },
    "pycharm": {
     "name": "#%%\n"
    }
   },
   "outputs": [],
   "source": [
    "url = f\"{BASE_URL}/reit-index\"\n",
    "\n",
    "response = requests.request(\"GET\", url, headers=HEADERS)\n",
    "data = response.json()"
   ]
  },
  {
   "cell_type": "code",
   "execution_count": null,
   "id": "f2d5f644",
   "metadata": {
    "collapsed": false,
    "jupyter": {
     "outputs_hidden": false
    },
    "pycharm": {
     "name": "#%%\n"
    }
   },
   "outputs": [],
   "source": [
    "print(f'Number of REITs in RDM universe across all quarters is {len(data[\"reits\"])}')"
   ]
  },
  {
   "cell_type": "markdown",
   "id": "db90872a",
   "metadata": {
    "pycharm": {
     "name": "#%% md\n"
    }
   },
   "source": [
    "Loop through the list of tickers and create a Heat Map of of the RDM Universe"
   ]
  },
  {
   "cell_type": "code",
   "execution_count": null,
   "id": "bacc12bd",
   "metadata": {
    "collapsed": false,
    "jupyter": {
     "outputs_hidden": false
    },
    "pycharm": {
     "name": "#%%\n"
    }
   },
   "outputs": [],
   "source": [
    "sum_quarters = [len(data[\"reits\"][ticker].keys()) for ticker in data[\"reits\"]]\n",
    "df = pd.DataFrame({\"REIT\": data[\"reits\"].keys(), \"TotalQuarters\": sum_quarters})\n",
    "\n",
    "df.head()"
   ]
  },
  {
   "cell_type": "markdown",
   "id": "033207ee",
   "metadata": {
    "pycharm": {
     "name": "#%% md\n"
    }
   },
   "source": [
    "Create a Horizontal bar chart of RDM Property Data Holdings"
   ]
  },
  {
   "cell_type": "code",
   "execution_count": null,
   "id": "b1183d69",
   "metadata": {
    "collapsed": false,
    "jupyter": {
     "outputs_hidden": false
    },
    "pycharm": {
     "name": "#%%\n"
    }
   },
   "outputs": [],
   "source": [
    "df.sort_values(by=\"TotalQuarters\", ascending=True, inplace=True)\n",
    "\n",
    "fig, ax = plt.subplots(figsize=(13, 40))\n",
    "ax.barh(df[\"REIT\"], df[\"TotalQuarters\"], align=\"center\")\n",
    "\n",
    "ax.set_xlabel(\"Number of Quarters with Property Data\")\n",
    "ax.set_ylabel(\"REIT Ticker\")\n",
    "ax.set_title(\"Inspection of RDM Property API Holdings\")\n",
    "ax.tick_params(axis=\"both\", which=\"major\", labelsize=16)\n",
    "\n",
    "# Make x-axis with minor ticks that are multiples\n",
    "# of 1 and label minor ticks with '% 1.2f' formatting\n",
    "plt.xticks(np.arange(min(df[\"TotalQuarters\"]) - 1, max(df[\"TotalQuarters\"]) + 1, 1.0))\n",
    "ax.xaxis.set_major_formatter(FormatStrFormatter(\"%.0f\"))\n",
    "ax.margins(x=0)\n",
    "plt.margins(y=0)\n",
    "\n",
    "plt.show()"
   ]
  },
  {
   "cell_type": "markdown",
   "id": "e75a27f9",
   "metadata": {
    "pycharm": {
     "name": "#%% md\n"
    }
   },
   "source": [
    "## GET /property \n",
    "\n",
    "Find properties in for Kilroy Realty (KRC) in Q4 2022. This method returns a list of property IDs."
   ]
  },
  {
   "cell_type": "code",
   "execution_count": null,
   "id": "4d8ab5a6",
   "metadata": {
    "collapsed": false,
    "jupyter": {
     "outputs_hidden": false
    },
    "pycharm": {
     "name": "#%%\n"
    }
   },
   "outputs": [],
   "source": [
    "# Get property IDs for Kilroy Realty for properties owned in Q4 2022\n",
    "\n",
    "url = f\"{BASE_URL}/property\"\n",
    "\n",
    "querystring = {\"reit\": \"krc\", \"qy\": \"Q42022\"}\n",
    "\n",
    "response = requests.request(\"GET\", url, headers=HEADERS, params=querystring)\n",
    "\n",
    "results = response.json()\n",
    "property_ids = results[\"property_ids\"]\n",
    "property_ids[:5]  # Show the first 5"
   ]
  },
  {
   "cell_type": "markdown",
   "id": "0431f56a",
   "metadata": {
    "pycharm": {
     "name": "#%% md\n"
    }
   },
   "source": [
    "## GET /property-basic-info\n",
    "\n",
    "Let's see ane example response from the `/property-basic-info` endpoint."
   ]
  },
  {
   "cell_type": "code",
   "execution_count": null,
   "id": "6dfe5565",
   "metadata": {
    "collapsed": false,
    "jupyter": {
     "outputs_hidden": false
    },
    "pycharm": {
     "name": "#%%\n"
    }
   },
   "outputs": [],
   "source": [
    "url = f\"{BASE_URL}/property-info-basic\"\n",
    "querystring = {\"property_id\": property_ids[0]}\n",
    "response = requests.request(\"GET\", url, headers=HEADERS, params=querystring)\n",
    "response.json()"
   ]
  },
  {
   "cell_type": "markdown",
   "id": "2b105feb",
   "metadata": {
    "pycharm": {
     "name": "#%% md\n"
    }
   },
   "source": [
    "Now loop through property ids and acquire basic property information for each property owned by KRC."
   ]
  },
  {
   "cell_type": "code",
   "execution_count": null,
   "id": "34874cbb",
   "metadata": {
    "collapsed": false,
    "jupyter": {
     "outputs_hidden": false
    },
    "pycharm": {
     "name": "#%%\n"
    }
   },
   "outputs": [],
   "source": [
    "property_data = []\n",
    "for property_id in property_ids:\n",
    "    url = f\"{BASE_URL}/property-info-basic\"\n",
    "\n",
    "    querystring = {\"property_id\": str(property_id)}\n",
    "\n",
    "    response = requests.request(\"GET\", url, headers=HEADERS, params=querystring)\n",
    "    property_data.append(response.json())"
   ]
  },
  {
   "cell_type": "markdown",
   "id": "3c26da8e-3178-44b5-b6a4-dfb94f830d1f",
   "metadata": {
    "pycharm": {
     "name": "#%% md\n"
    }
   },
   "source": [
    "Make a DataFrame with the results."
   ]
  },
  {
   "cell_type": "code",
   "execution_count": null,
   "id": "828ab476",
   "metadata": {
    "collapsed": false,
    "jupyter": {
     "outputs_hidden": false
    },
    "pycharm": {
     "name": "#%%\n"
    }
   },
   "outputs": [],
   "source": [
    "df = pd.DataFrame(property_data)\n",
    "df.head()"
   ]
  },
  {
   "cell_type": "markdown",
   "id": "e437e92e",
   "metadata": {
    "pycharm": {
     "name": "#%% md\n"
    }
   },
   "source": [
    "### Visualize the number of properties per MSA by Type\n",
    "\n",
    "[This medium blog](https://medium.com/dunder-data/automatically-wrap-graph-labels-in-matplotlib-and-seaborn-a48740bc9ce) was used to wrap labels with the seaborn library."
   ]
  },
  {
   "cell_type": "code",
   "execution_count": null,
   "id": "f7ff908f",
   "metadata": {
    "collapsed": false,
    "jupyter": {
     "outputs_hidden": false
    },
    "pycharm": {
     "name": "#%%\n"
    }
   },
   "outputs": [],
   "source": [
    "fig, ax = plt.subplots(figsize=(7, 7))\n",
    "top10 = df[\"msa\"].value_counts().index[:10]\n",
    "ax.set_title(\"Total KRC Properties per MSA by Property Type - Q4 2022\")\n",
    "sns.countplot(\n",
    "    data=df,\n",
    "    x=\"msa\",\n",
    "    hue=\"property_type\",\n",
    "    order=top10,\n",
    "    hue_order=[\"Office\", \"Retail\", \"HealthCare\", \"Residential\"],\n",
    ")\n",
    "ax.legend(bbox_to_anchor=(1, 1), title=\"Property Type\")\n",
    "\n",
    "\n",
    "def wrap_labels(ax, width, break_long_words=False):\n",
    "    labels = []\n",
    "    for label in ax.get_xticklabels():\n",
    "        text = label.get_text()\n",
    "        labels.append(\n",
    "            textwrap.fill(text, width=width, break_long_words=break_long_words)\n",
    "        )\n",
    "    ax.set_xticklabels(labels, rotation=0)\n",
    "\n",
    "\n",
    "# wrap the labels\n",
    "wrap_labels(ax, 10)\n",
    "\n",
    "ax.figure\n",
    "ax.set_xlabel(\"Metropolitan Statistical Area (MSA)\")\n",
    "ax.set_ylabel(\"Number of Properties\")\n",
    "plt.show()"
   ]
  },
  {
   "cell_type": "markdown",
   "id": "ab9ead1f",
   "metadata": {
    "pycharm": {
     "name": "#%% md\n"
    }
   },
   "source": [
    "## GET /property-info-premium\n",
    "\n",
    "Query premium attributes for KRC properties like latitude and longitude."
   ]
  },
  {
   "cell_type": "code",
   "execution_count": null,
   "id": "6195dcf9",
   "metadata": {
    "collapsed": false,
    "jupyter": {
     "outputs_hidden": false
    },
    "pycharm": {
     "name": "#%%\n"
    }
   },
   "outputs": [],
   "source": [
    "location_info = []\n",
    "for property_id in property_ids:\n",
    "    url = f\"{BASE_URL}/property-info-premium\"\n",
    "\n",
    "    querystring = {\"property_id\": property_id, \"attribute\": \"location\"}\n",
    "\n",
    "    response = requests.request(\"GET\", url, headers=HEADERS, params=querystring)\n",
    "    location_info.append(response.json())"
   ]
  },
  {
   "cell_type": "markdown",
   "id": "0b5833ad-9ffb-4935-97d6-21dd00c16792",
   "metadata": {
    "pycharm": {
     "name": "#%% md\n"
    }
   },
   "source": [
    "Make a DataFrame with the results."
   ]
  },
  {
   "cell_type": "code",
   "execution_count": null,
   "id": "38784308-c783-4b6a-b6d6-6a474346bc87",
   "metadata": {
    "pycharm": {
     "name": "#%%\n"
    }
   },
   "outputs": [],
   "source": [
    "location_df = pd.json_normalize(location_info)\n",
    "location_df.columns = [\"id\", \"lat\", \"lon\"]\n",
    "location_df.head()"
   ]
  },
  {
   "cell_type": "markdown",
   "id": "a2ded12f-b325-40db-b013-d64bc31d6d59",
   "metadata": {
    "pycharm": {
     "name": "#%% md\n"
    }
   },
   "source": [
    "Join location data to other attributes."
   ]
  },
  {
   "cell_type": "code",
   "execution_count": null,
   "id": "4e8643ee-b99c-4308-a744-b4df5da51c46",
   "metadata": {
    "pycharm": {
     "name": "#%%\n"
    }
   },
   "outputs": [],
   "source": [
    "df = df.merge(location_df, on=\"id\", how=\"left\")\n",
    "df.head()"
   ]
  },
  {
   "cell_type": "markdown",
   "id": "d449cf23",
   "metadata": {
    "pycharm": {
     "name": "#%% md\n"
    }
   },
   "source": [
    "### Plot Office Properties Located in the City of San Francisco on a Map\n",
    "\n",
    "Use the geopandas library to load and read polygon file of San Francisco neighborhoods."
   ]
  },
  {
   "cell_type": "code",
   "execution_count": null,
   "id": "369af66c",
   "metadata": {
    "collapsed": false,
    "jupyter": {
     "outputs_hidden": false
    },
    "pycharm": {
     "name": "#%%\n"
    }
   },
   "outputs": [],
   "source": [
    "sf_neighborhoods = gpd.read_file(SF_NEIGHBORHOODS)\n",
    "sf_neighborhoods = sf_neighborhoods.to_crs(\"EPSG:4326\")\n",
    "\n",
    "# Filter to only San Francisco properties\n",
    "sfprops = df.loc[(df[\"city\"] == \"San Francisco\") & (df[\"property_type\"] == \"Office\")]\n",
    "sf_gpd = gpd.GeoDataFrame(\n",
    "    sfprops, geometry=gpd.points_from_xy(sfprops.lon, sfprops.lat), crs=\"EPSG:4326\"\n",
    ")"
   ]
  },
  {
   "cell_type": "code",
   "execution_count": null,
   "id": "c502a195",
   "metadata": {
    "collapsed": false,
    "jupyter": {
     "outputs_hidden": false
    },
    "pycharm": {
     "name": "#%%\n"
    }
   },
   "outputs": [],
   "source": [
    "fig, ax = plt.subplots(1, 1, figsize=(10, 25))\n",
    "\n",
    "sf_neighborhoods_cx = sf_neighborhoods.to_crs(epsg=\"3857\", inplace=False)\n",
    "ax = sf_neighborhoods_cx.plot(edgecolor=\"grey\", ax=ax, legend=False, alpha=0.25)\n",
    "sf_gpd.to_crs(epsg=\"3857\", inplace=True)\n",
    "ax1 = sf_gpd.plot(ax=ax, color=\"red\", markersize=40)\n",
    "\n",
    "\n",
    "# Add basemap\n",
    "cx.add_basemap(ax1, source=cx.providers.Stamen.TonerLite, zoom=13)\n",
    "cx.add_basemap(ax1, source=cx.providers.Stamen.TonerLabels, zoom=13)\n",
    "\n",
    "# Style the map\n",
    "plt.tick_params(\n",
    "    left=False, right=False, labelleft=False, labelbottom=False, bottom=False\n",
    ")\n",
    "\n",
    "plt.title(\n",
    "    \"Q4 2022 Kilroy Realty (KRC) - City of San Francisco - Office Properties\", size=16\n",
    ")\n",
    "\n",
    "plt.show()"
   ]
  },
  {
   "cell_type": "markdown",
   "id": "08ea5ab2",
   "metadata": {
    "pycharm": {
     "name": "#%% md\n"
    }
   },
   "source": [
    "For help with this tutorial or for any other questions regarding the RDM Property and Analytics API, reach out to analytics@reitdatamarket.com"
   ]
  }
 ],
 "metadata": {
  "kernelspec": {
   "display_name": "Python [conda env:root] *",
   "language": "python",
   "name": "conda-root-py"
  },
  "language_info": {
   "codemirror_mode": {
    "name": "ipython",
    "version": 3
   },
   "file_extension": ".py",
   "mimetype": "text/x-python",
   "name": "python",
   "nbconvert_exporter": "python",
   "pygments_lexer": "ipython3",
   "version": "3.8.16"
  },
  "toc-autonumbering": true
 },
 "nbformat": 4,
 "nbformat_minor": 5
}